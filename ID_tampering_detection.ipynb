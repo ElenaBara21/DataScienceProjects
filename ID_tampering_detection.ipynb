{
  "nbformat": 4,
  "nbformat_minor": 0,
  "metadata": {
    "colab": {
      "name": "ID tampering detection.ipynb",
      "provenance": [],
      "authorship_tag": "ABX9TyMwLgUFykw0RUow7Hz082F/",
      "include_colab_link": true
    },
    "kernelspec": {
      "name": "python3",
      "display_name": "Python 3"
    },
    "language_info": {
      "name": "python"
    }
  },
  "cells": [
    {
      "cell_type": "markdown",
      "metadata": {
        "id": "view-in-github",
        "colab_type": "text"
      },
      "source": [
        "<a href=\"https://colab.research.google.com/github/ElenaBara21/DataScienceProjects/blob/main/ID_tampering_detection.ipynb\" target=\"_parent\"><img src=\"https://colab.research.google.com/assets/colab-badge.svg\" alt=\"Open In Colab\"/></a>"
      ]
    },
    {
      "cell_type": "code",
      "execution_count": null,
      "metadata": {
        "id": "7U_PFcyYz4gp"
      },
      "outputs": [],
      "source": [
        ""
      ]
    },
    {
      "cell_type": "markdown",
      "source": [
        "# Tampering detection"
      ],
      "metadata": {
        "id": "M5kmQiQ709li"
      }
    },
    {
      "cell_type": "markdown",
      "source": [
        "In this project we will detect tempering of PAN card using computer vision. This project will help the different org. in detecting whetherthe ID original or not by instantly uploading a pic.\n",
        "1. Get images from user\n",
        "2. Check for size and format of the image\n",
        "3. change shape and size of image according to the original image\n",
        "4. convert image to grayscale\n",
        "5. find similarity index of the images\n",
        "6. finding the treshold of the image\n",
        "7. finding contour and grab those contour using imutils\n",
        "8. draw a bounding rectangle using thesecontour\n",
        "9. plot difference, threshold original and tampered image\n",
        "10 compare all images and check the similarity score to decide tempering"
      ],
      "metadata": {
        "id": "zKtsMN3I0gTh"
      }
    },
    {
      "cell_type": "code",
      "source": [
        "# import the necessery packages\n",
        "from skimage.metrics import structural_similarity #for structure similarity btw original and tampered\n",
        "import imutils # grabbing the contours of the image\n",
        "import cv2 #computer vision for all the data requirements\n",
        "from PIL import Image # PIL for downloading images and visualising image\n",
        "import requests #fetch data from URL"
      ],
      "metadata": {
        "id": "Hgn4a-tN07NK"
      },
      "execution_count": 1,
      "outputs": []
    },
    {
      "cell_type": "code",
      "source": [
        "# we will create 2 directories to store our images\n",
        "!mkdir pan_card_tampering\n",
        "!mkdir pan_card_tampering/image\n"
      ],
      "metadata": {
        "id": "eCw7P1kH4ueu"
      },
      "execution_count": 2,
      "outputs": []
    },
    {
      "cell_type": "markdown",
      "source": [
        ""
      ],
      "metadata": {
        "id": "kyjrmcp_4tRi"
      }
    }
  ]
}